{
 "cells": [
  {
   "cell_type": "code",
   "execution_count": 1,
   "metadata": {},
   "outputs": [
    {
     "name": "stdout",
     "output_type": "stream",
     "text": [
      "0\n",
      "1\n",
      "2\n",
      "4\n",
      "5\n"
     ]
    }
   ],
   "source": [
    "#Write a Python program that prints all the numbers from 0 to 6 except 3 and 6.\n",
    "for i in range(0,7):\n",
    "    if (i== 3 or i == 6):\n",
    "        continue\n",
    "    else:\n",
    "        print(i)"
   ]
  },
  {
   "cell_type": "code",
   "execution_count": 2,
   "metadata": {},
   "outputs": [],
   "source": [
    "#Write a function that prints all the prime numbers between 0 and \n",
    "#limit where limit is a parameter.\n",
    "\n",
    "def find_prime(limit):  \n",
    "    for val in range(1, limit + 1):  \n",
    "   # If num is divisible by any number between 2 and val, it is not prime  \n",
    "       if val > 1: \n",
    "           for n in range(2, val): \n",
    "                if (val % n == 0): \n",
    "                    break\n",
    "           else:    #The else block just after for/while is executed only when the loop is NOT terminated by a break statement.\n",
    "                print(val)"
   ]
  },
  {
   "cell_type": "code",
   "execution_count": 3,
   "metadata": {},
   "outputs": [
    {
     "name": "stdout",
     "output_type": "stream",
     "text": [
      "2\n",
      "3\n",
      "5\n",
      "7\n",
      "11\n",
      "13\n",
      "17\n",
      "19\n"
     ]
    }
   ],
   "source": [
    "find_prime(19)"
   ]
  },
  {
   "cell_type": "code",
   "execution_count": 4,
   "metadata": {},
   "outputs": [],
   "source": [
    "# Write a function that returns the sum of multiples of 3 and 5 between 0 and limit (parameter)\n",
    "def sum_multi(limit):\n",
    "    sum = 0\n",
    "    for i in range(1, limit+1):\n",
    "        if i%3 == 0 or i%5 == 0:\n",
    "            print(i)\n",
    "            sum = sum+i\n",
    "        else:\n",
    "            continue\n",
    "    print(\"The sum of all multiples of 3 and 5 is\",  sum)"
   ]
  },
  {
   "cell_type": "code",
   "execution_count": 5,
   "metadata": {},
   "outputs": [
    {
     "name": "stdout",
     "output_type": "stream",
     "text": [
      "3\n",
      "5\n",
      "6\n",
      "9\n",
      "10\n",
      "12\n",
      "15\n",
      "18\n",
      "20\n",
      "21\n",
      "24\n",
      "25\n",
      "The sum of all multiples of 3 and 5 is 168\n"
     ]
    }
   ],
   "source": [
    "#Clling the function for finding sum of multiples of 3 and 5 till 25\n",
    "sum_multi(25)"
   ]
  },
  {
   "cell_type": "code",
   "execution_count": 6,
   "metadata": {},
   "outputs": [],
   "source": [
    "#Write a Python program that accepts a word from the user and reverse it.\n",
    "\n",
    "def reverse(s):\n",
    "    str1 = \"\"\n",
    "    for i in s:\n",
    "        str1 = i+str1\n",
    "        print(str1)\n",
    "    print(str1)"
   ]
  },
  {
   "cell_type": "code",
   "execution_count": 7,
   "metadata": {},
   "outputs": [
    {
     "name": "stdout",
     "output_type": "stream",
     "text": [
      "p\n",
      "yp\n",
      "typ\n",
      "htyp\n",
      "ohtyp\n",
      "nohtyp\n",
      "nohtyp\n"
     ]
    }
   ],
   "source": [
    "reverse(\"python\")"
   ]
  },
  {
   "cell_type": "code",
   "execution_count": 8,
   "metadata": {},
   "outputs": [
    {
     "name": "stdout",
     "output_type": "stream",
     "text": [
      "4A3B2C1D3A\n",
      "1P1H1P\n",
      "4A3B3C1D2A1B1D4A1C\n"
     ]
    }
   ],
   "source": [
    "#Write a Python program that takes a string and encode it that the amount of symbols would be represented by integer                                                     \n",
    "#and the symbol.\n",
    "#For example, the string \"AAAABBBCCDAAA\" would be encoded as \"4A3B2C1D3A\"\n",
    "\n",
    "def encode_string(str1):\n",
    "    encoded = \"\"\n",
    "    ctr = 1\n",
    "    last_char = str1[0]\n",
    "\n",
    "    for i in range(1, len(str1)):\n",
    "        if last_char == str1[i]:\n",
    "            ctr += 1\n",
    "        else:\n",
    "            encoded += str(ctr) + last_char\n",
    "            ctr = 0\n",
    "            last_char = str1[i]\n",
    "            ctr += 1\n",
    "    encoded += str(ctr) + last_char\n",
    "    return encoded\n",
    "print(encode_string(\"AAAABBBCCDAAA\")) \n",
    "print(encode_string(\"PHP\"))  \n",
    "print(encode_string(\"AAAABBBCCCDAABDAAAAC\")) "
   ]
  },
  {
   "cell_type": "code",
   "execution_count": 9,
   "metadata": {},
   "outputs": [],
   "source": [
    "def test_div(num):\n",
    "    if (num % 2 == 0):\n",
    "        print(\"This number is divisible by 2\")\n",
    "    elif (num % 3 == 0):\n",
    "        print(\"This number is divisible by 3\")\n",
    "    elif (num % 4 == 0):\n",
    "        print(\"This number is divisible by 4\")\n",
    "    elif (num % 5 == 0):\n",
    "        print(\"This number is divisible by 5\")\n",
    "    else:\n",
    "        print(\"This number is not divisible by 2,3,4 or 5\")"
   ]
  },
  {
   "cell_type": "code",
   "execution_count": 10,
   "metadata": {},
   "outputs": [
    {
     "name": "stdout",
     "output_type": "stream",
     "text": [
      "This number is divisible by 2\n"
     ]
    }
   ],
   "source": [
    "test_div(10)"
   ]
  },
  {
   "cell_type": "code",
   "execution_count": null,
   "metadata": {},
   "outputs": [],
   "source": []
  }
 ],
 "metadata": {
  "kernelspec": {
   "display_name": "Python 3",
   "language": "python",
   "name": "python3"
  },
  "language_info": {
   "codemirror_mode": {
    "name": "ipython",
    "version": 3
   },
   "file_extension": ".py",
   "mimetype": "text/x-python",
   "name": "python",
   "nbconvert_exporter": "python",
   "pygments_lexer": "ipython3",
   "version": "3.6.5"
  }
 },
 "nbformat": 4,
 "nbformat_minor": 2
}
